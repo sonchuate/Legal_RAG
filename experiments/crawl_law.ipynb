{
 "cells": [
  {
   "cell_type": "code",
   "execution_count": 1,
   "id": "4d2e7b74",
   "metadata": {
    "_cell_guid": "b1076dfc-b9ad-4769-8c92-a6c4dae69d19",
    "_uuid": "8f2839f25d086af736a60e9eeb907d3b93b6e0e5",
    "execution": {
     "iopub.execute_input": "2025-03-09T17:42:11.919320Z",
     "iopub.status.busy": "2025-03-09T17:42:11.918969Z",
     "iopub.status.idle": "2025-03-09T19:37:44.135476Z",
     "shell.execute_reply": "2025-03-09T19:37:44.134180Z"
    },
    "papermill": {
     "duration": 6932.222527,
     "end_time": "2025-03-09T19:37:44.137978",
     "exception": false,
     "start_time": "2025-03-09T17:42:11.915451",
     "status": "completed"
    },
    "tags": []
   },
   "outputs": [],
   "source": [
    "import re\n",
    "import os\n",
    "import requests as rq\n",
    "from bs4 import BeautifulSoup\n",
    "os.mkdir('thu_vien_phap_luat')\n",
    "def merge_line(text:str):\n",
    "    lines = text.split('\\n')\n",
    "    lines = [line.strip() for line in lines if len(line.strip()) > 0]\n",
    "\n",
    "    result = []\n",
    "    tmp = []\n",
    "    len_lines = len(lines)\n",
    "    for id, line in enumerate(lines):\n",
    "        tmp.append(line)\n",
    "        if line.strip()[-1] in \";.!?:\":\n",
    "            result.append(\" \".join(tmp))\n",
    "            tmp = []\n",
    "        elif id + 1 < len_lines:\n",
    "            if lines[id + 1][0].isupper() or lines[id + 1][0].isnumeric():\n",
    "                result.append(\" \".join(tmp))\n",
    "                tmp = []\n",
    "    return \"\\n\".join(result)\n",
    "\n",
    "with open('/kaggle/input/legal-crawl/meta.txt', 'r', encoding='utf-8') as f:\n",
    "    data = f.read()\n",
    "for line in data.split('\\n'):\n",
    "    try:\n",
    "        if len(line) < 3:\n",
    "            continue\n",
    "        link, id = line.split('\\t')\n",
    "        r = rq.get(link)\n",
    "        soup = BeautifulSoup(r.text)\n",
    "        with open(f'thu_vien_phap_luat/{id}.txt', 'w', encoding='utf-8') as f: \n",
    "        # print(str(soup.find('div', id='tab1')))\n",
    "            for doc in str(soup.find('div', id='tab1')).split('name=\"dieu_'):\n",
    "                f.write(f\"\"\"[[Điều {doc.split('\"')[0]}]]\\n\"\"\")\n",
    "                f.write(merge_line(\">\".join(re.sub(r\"</?\\w+[^>]*>\", \"\", doc).split('>')[1:]).split(\"<\")[0]))\n",
    "                f.write(f'\\n')\n",
    "    except:\n",
    "        print(line)\n"
   ]
  },
  {
   "cell_type": "code",
   "execution_count": null,
   "id": "e0369d7c",
   "metadata": {
    "papermill": {
     "duration": 0.001351,
     "end_time": "2025-03-09T19:37:44.141631",
     "exception": false,
     "start_time": "2025-03-09T19:37:44.140280",
     "status": "completed"
    },
    "tags": []
   },
   "outputs": [],
   "source": []
  }
 ],
 "metadata": {
  "kaggle": {
   "accelerator": "none",
   "dataSources": [
    {
     "datasetId": 6827615,
     "sourceId": 10972500,
     "sourceType": "datasetVersion"
    }
   ],
   "dockerImageVersionId": 30918,
   "isGpuEnabled": false,
   "isInternetEnabled": true,
   "language": "python",
   "sourceType": "notebook"
  },
  "kernelspec": {
   "display_name": "Python 3",
   "language": "python",
   "name": "python3"
  },
  "language_info": {
   "codemirror_mode": {
    "name": "ipython",
    "version": 3
   },
   "file_extension": ".py",
   "mimetype": "text/x-python",
   "name": "python",
   "nbconvert_exporter": "python",
   "pygments_lexer": "ipython3",
   "version": "3.10.12"
  },
  "papermill": {
   "default_parameters": {},
   "duration": 6935.9826,
   "end_time": "2025-03-09T19:37:44.774572",
   "environment_variables": {},
   "exception": null,
   "input_path": "__notebook__.ipynb",
   "output_path": "__notebook__.ipynb",
   "parameters": {},
   "start_time": "2025-03-09T17:42:08.791972",
   "version": "2.6.0"
  }
 },
 "nbformat": 4,
 "nbformat_minor": 5
}
