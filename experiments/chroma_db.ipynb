{
 "cells": [
  {
   "cell_type": "code",
   "execution_count": 6,
   "metadata": {},
   "outputs": [],
   "source": [
    "import chromadb\n",
    "\n",
    "client = chromadb.HttpClient(host='localhost', port=8000)\n"
   ]
  },
  {
   "cell_type": "code",
   "execution_count": 7,
   "metadata": {},
   "outputs": [],
   "source": [
    "collection = client.create_collection(name=\"chuatebongtoi\")"
   ]
  },
  {
   "cell_type": "code",
   "execution_count": 9,
   "metadata": {},
   "outputs": [],
   "source": [
    "collection.add(\n",
    "    documents = [f\"chuatebongtoi_{i + 1}\" for i in range(3)],\n",
    "    metadatas = [{\"source\": \"student info\"},{\"source\": \"club info\"},{'source':'university info'}],\n",
    "    ids = [\"id1\", \"id2\", \"id3\"]\n",
    ")"
   ]
  },
  {
   "cell_type": "code",
   "execution_count": 10,
   "metadata": {},
   "outputs": [],
   "source": [
    "results = collection.query(\n",
    "    query_texts=[\"What is the student name?\"],\n",
    "    n_results=2\n",
    ")"
   ]
  },
  {
   "cell_type": "code",
   "execution_count": 11,
   "metadata": {},
   "outputs": [
    {
     "data": {
      "text/plain": [
       "{'ids': [['id2', 'id3']],\n",
       " 'distances': [[1.6704515978117882, 1.6935317401513623]],\n",
       " 'embeddings': None,\n",
       " 'metadatas': [[{'source': 'club info'}, {'source': 'university info'}]],\n",
       " 'documents': [['chuatebongtoi_3', 'chuatebongtoi_4']],\n",
       " 'uris': None,\n",
       " 'data': None,\n",
       " 'included': ['distances', 'documents', 'metadatas']}"
      ]
     },
     "execution_count": 11,
     "metadata": {},
     "output_type": "execute_result"
    }
   ],
   "source": [
    "results"
   ]
  },
  {
   "cell_type": "code",
   "execution_count": 13,
   "metadata": {},
   "outputs": [],
   "source": [
    "collection2 = client.get_or_create_collection(name=\"chuatebongtoi2\")\n",
    "\n",
    "collection2.add(\n",
    "    embeddings = [[-0.01015068031847477, 0.0070903063751757145, 0.010579396970570087], [-0.04118313640356064, 0.0011583581799641252, 0.026857420802116394],\\\n",
    "                  [-0.04118313640356064, 0.0011583581799641252, 1]],\n",
    "    documents = [f\"chuatebongtoi_{i + 1}\" for i in range(3)],\n",
    "    metadatas = [{\"source\": \"student info\"},{\"source\": \"club info\"},{'source':'university info'}],\n",
    "    ids = [\"id1\", \"id2\", \"id3\"]\n",
    ")"
   ]
  },
  {
   "cell_type": "code",
   "execution_count": 21,
   "metadata": {},
   "outputs": [],
   "source": [
    "import numpy as np\n",
    "class Emb:\n",
    "    def __init__(self):\n",
    "        pass\n",
    "\n",
    "    def __call__(self, input):\n",
    "        return [np.array([int(i)]) for i in input]\n",
    "    \n",
    "emb = Emb()\n",
    "collection2 = client.get_or_create_collection(name=\"Students2\",embedding_function=emb)\n",
    "\n",
    "collection2.add(\n",
    "    documents = [\"1\", \"2\", \"3\"],\n",
    "    metadatas = [{\"source\": \"student info\"},{\"source\": \"club info\"},{'source':'university info'}],\n",
    "    ids = [\"id1\", \"id2\", \"id3\"]\n",
    ")"
   ]
  },
  {
   "cell_type": "code",
   "execution_count": 22,
   "metadata": {},
   "outputs": [
    {
     "data": {
      "text/plain": [
       "{'ids': [['id3', 'id2']],\n",
       " 'distances': [[0.0, 1.0]],\n",
       " 'embeddings': None,\n",
       " 'metadatas': [[{'source': 'university info'}, {'source': 'club info'}]],\n",
       " 'documents': [['3', '2']],\n",
       " 'uris': None,\n",
       " 'data': None,\n",
       " 'included': ['distances', 'documents', 'metadatas']}"
      ]
     },
     "execution_count": 22,
     "metadata": {},
     "output_type": "execute_result"
    }
   ],
   "source": [
    "results = collection2.query(\n",
    "    query_texts=[\"3\"],\n",
    "    n_results=2\n",
    ")\n",
    "\n",
    "results"
   ]
  },
  {
   "cell_type": "code",
   "execution_count": null,
   "metadata": {},
   "outputs": [],
   "source": []
  }
 ],
 "metadata": {
  "kernelspec": {
   "display_name": "Python 3",
   "language": "python",
   "name": "python3"
  },
  "language_info": {
   "codemirror_mode": {
    "name": "ipython",
    "version": 3
   },
   "file_extension": ".py",
   "mimetype": "text/x-python",
   "name": "python",
   "nbconvert_exporter": "python",
   "pygments_lexer": "ipython3",
   "version": "3.10.10"
  }
 },
 "nbformat": 4,
 "nbformat_minor": 2
}
