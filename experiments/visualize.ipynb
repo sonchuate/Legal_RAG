{
 "cells": [
  {
   "cell_type": "code",
   "execution_count": 3,
   "metadata": {},
   "outputs": [
    {
     "data": {
      "text/plain": [
       "'graph.pdf'"
      ]
     },
     "execution_count": 3,
     "metadata": {},
     "output_type": "execute_result"
    }
   ],
   "source": [
    "import os\n",
    "os.environ[\"PATH\"] += os.pathsep + 'C:/Program Files/Graphviz/bin/'\n",
    "\n",
    "from graphviz import Digraph\n",
    "\n",
    "dot = Digraph()\n",
    "dot.node(\"A\", \"Thực thể A\")\n",
    "dot.node(\"B\", \"Thực thể B\")\n",
    "dot.edge(\"A\", \"B\", label=\"Quan hệ AB\")\n",
    "\n",
    "dot.render(\"graph\", format=\"png\", cleanup=True)\n",
    "dot.view()\n"
   ]
  },
  {
   "cell_type": "code",
   "execution_count": 1,
   "metadata": {},
   "outputs": [],
   "source": [
    "ip = \"\"\"(\"entity\"<|>GAME DESIGNER<|>JOB TITLE<|>A professional responsible for designing and creating game interfaces, characters, and environments<|>)\n",
    "##\n",
    "(\"entity\"<|>UI/UX DESIGNER<|>JOB TITLE<|>A professional responsible for designing user interfaces and user experiences for games and applications<|>)\n",
    "##\n",
    "(\"entity\"<|>PHOTOSHOP<|>SOFTWARE<|>A graphic design software used for editing and manipulating images<|>)\n",
    "##\n",
    "(\"entity\"<|>ILLUSTRATOR<|>SOFTWARE<|>A graphic design software used for creating and editing vector graphics<|>)\n",
    "##\n",
    "(\"entity\"<|>AFTER EFFECTS<|>SOFTWARE<|>A digital visual effects software used for creating motion graphics and animations<|>)\n",
    "##\n",
    "(\"entity\"<|>WACOM<|>SOFTWARE<|>A brand of graphics tablets used for digital drawing and design<|>)\n",
    "##\n",
    "(\"entity\"<|>HÀ NỘI<|>CITY NAME<|>The capital city of Vietnam<|>)\n",
    "##\n",
    "(\"entity\"<|>CẦU GIẤY<|>DISTRICT NAME<|>A district located in Hà Nội, Vietnam<|>)\n",
    "##\n",
    "(\"entity\"<|>VIỆT NAM<|>COUNTRY NAME<|>A country located in Southeast Asia<|>)\n",
    "##\n",
    "(\"entity\"<|>TIẾNG VIỆT<|>LANGUAGE<|>The official language of Vietnam<|>)\n",
    "##\n",
    "(\"entity\"<|>07:30-18:00<|>TIME RANGE<|>The working hours of the company, from 8:30 AM to 6:00 PM<|>)\n",
    "##\n",
    "(\"entity\"<|>2 LẦN/NĂM<|>TIME RANGE<|>The frequency of salary reviews, twice a year<|>)\n",
    "##\n",
    "(\"entity\"<|>12 NGHỈ PHÉP<|>TIME RANGE<|>The number of annual leave days, 12 days per year<|>)\n",
    "##\n",
    "(\"entity\"<|>CƠM TRƯA<|>SALARY<|>A meal allowance provided by the company<|>)\n",
    "##\n",
    "(\"entity\"<|>BẢO HIỂM SỨC KHỎE<|>SALARY<|>A health insurance package provided by the company<|>)\n",
    "##\n",
    "(\"relationship\"<|>GAME DESIGNER<|>UI/UX DESIGNER<|>Game designers often work on UI/UX design for games<|>0.8)\n",
    "##\n",
    "(\"relationship\"<|>PHOTOSHOP<|>GAME DESIGNER<|>Game designers often use Photoshop for designing game interfaces and characters<|>0.9)\n",
    "##\n",
    "(\"relationship\"<|>WACOM<|>GAME DESIGNER<|>Game designers often use Wacom tablets for digital drawing and design<|>0.8)\n",
    "##\n",
    "(\"relationship\"<|>HÀ NỘI<|>CẦU GIẤY<|>Cầu Giấy is a district located in Hà Nội city<|>0.9)\n",
    "##\n",
    "(\"relationship\"<|>VIỆT NAM<|>HÀ NỘI<|>Hà Nội is the capital city of Vietnam<|>0.9)\n",
    "##\n",
    "(\"relationship\"<|>TIẾNG VIỆT<|>VIỆT NAM<|>Tiếng Việt is the official language of Vietnam<|>0.9)\n",
    "<|COMPLETE|>\"\"\""
   ]
  },
  {
   "cell_type": "code",
   "execution_count": 2,
   "metadata": {},
   "outputs": [
    {
     "name": "stdout",
     "output_type": "stream",
     "text": [
      "{'entity': [['GAME DESIGNER', 'JOB TITLE', 'A professional responsible for designing and creating game interfaces, characters, and environments'], ['UI/UX DESIGNER', 'JOB TITLE', 'A professional responsible for designing user interfaces and user experiences for games and applications'], ['PHOTOSHOP', 'SOFTWARE', 'A graphic design software used for editing and manipulating images'], ['ILLUSTRATOR', 'SOFTWARE', 'A graphic design software used for creating and editing vector graphics'], ['AFTER EFFECTS', 'SOFTWARE', 'A digital visual effects software used for creating motion graphics and animations'], ['WACOM', 'SOFTWARE', 'A brand of graphics tablets used for digital drawing and design'], ['HÀ NỘI', 'CITY NAME', 'The capital city of Vietnam'], ['CẦU GIẤY', 'DISTRICT NAME', 'A district located in Hà Nội, Vietnam'], ['VIỆT NAM', 'COUNTRY NAME', 'A country located in Southeast Asia'], ['TIẾNG VIỆT', 'LANGUAGE', 'The official language of Vietnam'], ['07:30-18:00', 'TIME RANGE', 'The working hours of the company, from 8:30 AM to 6:00 PM'], ['2 LẦN/NĂM', 'TIME RANGE', 'The frequency of salary reviews, twice a year'], ['12 NGHỈ PHÉP', 'TIME RANGE', 'The number of annual leave days, 12 days per year'], ['CƠM TRƯA', 'SALARY', 'A meal allowance provided by the company'], ['BẢO HIỂM SỨC KHỎE', 'SALARY', 'A health insurance package provided by the company']], 'relationship': [['GAME DESIGNER', 'UI/UX DESIGNER', 'Game designers often work on UI/UX design for games'], ['PHOTOSHOP', 'GAME DESIGNER', 'Game designers often use Photoshop for designing game interfaces and characters'], ['WACOM', 'GAME DESIGNER', 'Game designers often use Wacom tablets for digital drawing and design'], ['HÀ NỘI', 'CẦU GIẤY', 'Cầu Giấy is a district located in Hà Nội city'], ['VIỆT NAM', 'HÀ NỘI', 'Hà Nội is the capital city of Vietnam'], ['TIẾNG VIỆT', 'VIỆT NAM', 'Tiếng Việt is the official language of Vietnam']]}\n"
     ]
    }
   ],
   "source": [
    "def preprocess(s):\n",
    "    s = s.replace('<|COMPLETE|>', \"\")\n",
    "    s = s.split('\\n##\\n')\n",
    "    s = [si.replace('\\n', '').strip() for si in s]\n",
    "    s = [si.replace('\"', \"\")[1:-1] for si in s if len(si) > 0]\n",
    "\n",
    "    output_dict = {\n",
    "        \"entity\" : [],\n",
    "        \"relationship\" : []\n",
    "    }\n",
    "    for line in s:\n",
    "        if line.startswith(\"entity\"):\n",
    "            line = line.split('<|>')\n",
    "            output_dict['entity'].append(line[1:4])\n",
    "        elif line.startswith(\"relationship\"):\n",
    "            line = line.split('<|>')\n",
    "            output_dict['relationship'].append(line[1:4])\n",
    "    return output_dict\n",
    "print(preprocess(ip))"
   ]
  },
  {
   "cell_type": "code",
   "execution_count": 3,
   "metadata": {},
   "outputs": [],
   "source": [
    "import os\n",
    "os.environ[\"PATH\"] += os.pathsep + 'C:/Program Files/Graphviz/bin/'\n",
    "\n",
    "from graphviz import Digraph\n",
    "\n",
    "\n"
   ]
  },
  {
   "cell_type": "code",
   "execution_count": 5,
   "metadata": {},
   "outputs": [
    {
     "name": "stdout",
     "output_type": "stream",
     "text": [
      "GAME DESIGNER | JOB TITLE\n",
      "UI/UX DESIGNER | JOB TITLE\n",
      "PHOTOSHOP | SOFTWARE\n",
      "ILLUSTRATOR | SOFTWARE\n",
      "AFTER EFFECTS | SOFTWARE\n",
      "WACOM | SOFTWARE\n",
      "HÀ NỘI | CITY NAME\n",
      "CẦU GIẤY | DISTRICT NAME\n",
      "VIỆT NAM | COUNTRY NAME\n",
      "TIẾNG VIỆT | LANGUAGE\n",
      "07:30-18:00 | TIME RANGE\n",
      "2 LẦN/NĂM | TIME RANGE\n",
      "12 NGHỈ PHÉP | TIME RANGE\n",
      "CƠM TRƯA | SALARY\n",
      "BẢO HIỂM SỨC KHỎE | SALARY\n",
      "GAME DESIGNER -> UI/UX DESIGNER\n",
      "PHOTOSHOP -> GAME DESIGNER\n",
      "WACOM -> GAME DESIGNER\n",
      "HÀ NỘI -> CẦU GIẤY\n",
      "VIỆT NAM -> HÀ NỘI\n",
      "TIẾNG VIỆT -> VIỆT NAM\n"
     ]
    },
    {
     "data": {
      "text/plain": [
       "'graph.pdf'"
      ]
     },
     "execution_count": 5,
     "metadata": {},
     "output_type": "execute_result"
    }
   ],
   "source": [
    "dot = Digraph()\n",
    "graph = preprocess(ip)\n",
    "nodes, edges = graph['entity'], graph['relationship']\n",
    "for node in nodes:\n",
    "    dot.node(node[1], node[0])\n",
    "    print(node[0], \"|\", node[1])\n",
    "\n",
    "for edge in edges:\n",
    "    dot.edge(edge[0], edge[1], label=edge[2])\n",
    "    print(edge[0], \"->\", edge[1])\n",
    "\n",
    "dot.render(\"graph\", format=\"png\", cleanup=True)\n",
    "dot.view()"
   ]
  },
  {
   "cell_type": "code",
   "execution_count": null,
   "metadata": {},
   "outputs": [],
   "source": []
  }
 ],
 "metadata": {
  "kernelspec": {
   "display_name": "Python 3",
   "language": "python",
   "name": "python3"
  },
  "language_info": {
   "codemirror_mode": {
    "name": "ipython",
    "version": 3
   },
   "file_extension": ".py",
   "mimetype": "text/x-python",
   "name": "python",
   "nbconvert_exporter": "python",
   "pygments_lexer": "ipython3",
   "version": "3.10.10"
  }
 },
 "nbformat": 4,
 "nbformat_minor": 2
}
