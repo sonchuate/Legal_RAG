{
 "cells": [
  {
   "cell_type": "code",
   "execution_count": null,
   "metadata": {},
   "outputs": [],
   "source": [
    "# docker run --publish=7474:7474 --publish=7687:7687 --volume=/neo4j/data:/data neo4j\n",
    "# bin/cypher-shell -u neo4j -p <password>\n",
    "# :exit\n",
    "# docker run --publish=7474:7474 --publish=7687:7687 -v /neo4j/data:/data neo4j\n",
    "# neo4j stop"
   ]
  },
  {
   "cell_type": "code",
   "execution_count": null,
   "metadata": {},
   "outputs": [],
   "source": [
    "# https://neo4j.com/labs/genai-ecosystem/graphrag-python/\n",
    "# https://neo4j.com/blog/genai/what-is-graphrag/"
   ]
  },
  {
   "cell_type": "code",
   "execution_count": 41,
   "metadata": {},
   "outputs": [],
   "source": [
    "from neo4j import GraphDatabase\n",
    "from neo4j_graphrag.indexes import create_vector_index, drop_index_if_exists\n",
    "\n",
    "URI = \"neo4j://localhost:7687\"\n",
    "AUTH = (\"neo4j\", \"chuatebongtoi\")\n",
    "\n",
    "INDEX_NAME = \"vector-index-name\"\n",
    "\n",
    "# Connect to Neo4j database\n",
    "driver = GraphDatabase.driver(URI, auth=AUTH)\n",
    "drop_index_if_exists(\n",
    "    driver,\n",
    "    INDEX_NAME,\n",
    ")\n",
    "# Creating the index\n",
    "create_vector_index(\n",
    "    driver,\n",
    "    INDEX_NAME,\n",
    "    label=\"Document\",\n",
    "    embedding_property=\"vectorProperty\",\n",
    "    dimensions=3,\n",
    "    similarity_fn=\"euclidean\",\n",
    ")"
   ]
  },
  {
   "cell_type": "markdown",
   "metadata": {},
   "source": [
    "search trên cạnh hoặc node\n",
    "\n",
    "entity_type (EntityType) – Specifies whether to upsert to nodes (‘NODE’) or relationships (‘RELATIONSHIP’). Defaults to ‘NODE’."
   ]
  },
  {
   "cell_type": "code",
   "execution_count": 46,
   "metadata": {},
   "outputs": [],
   "source": [
    "from neo4j_graphrag.indexes import upsert_vectors, retrieve_vector_index_info\n",
    "# Upsert embeddings data for several nodes\n",
    "upsert_vectors(\n",
    "    driver,\n",
    "    ids=['123', '456', '789'],\n",
    "    embedding_property=\"vectorProperty\",\n",
    "    embeddings=[\n",
    "        [0.12, 0.34, 0.56],\n",
    "        [0.78, 0.90, 0.12],\n",
    "        [0.34, 0.56, 0.78],\n",
    "    ],\n",
    "    neo4j_database=\"neo4j\",\n",
    "    entity_type='NODE',\n",
    ")"
   ]
  },
  {
   "cell_type": "code",
   "execution_count": 44,
   "metadata": {},
   "outputs": [],
   "source": [
    "from neo4j_graphrag.retrievers import VectorRetriever\n",
    "retriever = VectorRetriever(driver, index_name=INDEX_NAME, neo4j_database=\"neo4j\")"
   ]
  },
  {
   "cell_type": "code",
   "execution_count": 56,
   "metadata": {},
   "outputs": [
    {
     "data": {
      "text/plain": [
       "<bound method Record.data of <Record name='vector-index-name' type='VECTOR' entityType='NODE' labelsOrTypes=['Document'] properties=['vectorProperty'] options={'indexProvider': 'vector-2.0', 'indexConfig': {'vector.hnsw.m': 16, 'vector.hnsw.ef_construction': 100, 'vector.dimensions': 3, 'vector.similarity_function': 'EUCLIDEAN', 'vector.quantization.enabled': True}}>>"
      ]
     },
     "execution_count": 56,
     "metadata": {},
     "output_type": "execute_result"
    }
   ],
   "source": [
    "retrieve_vector_index_info(driver, INDEX_NAME, 'NODE', [0.12, 0.34, 0.56]).data"
   ]
  },
  {
   "cell_type": "code",
   "execution_count": null,
   "metadata": {},
   "outputs": [],
   "source": [
    "DEFAULT_TEMPLATE = \"\"\"\n",
    "You are a top-tier algorithm designed for extracting\n",
    "information in structured formats to build a knowledge graph.\n",
    "\n",
    "Extract the entities (nodes) and specify their type from the following text.\n",
    "Also extract the relationships between these nodes.\n",
    "\n",
    "Return result as JSON using the following format:\n",
    "{{\"nodes\": [ {{\"id\": \"0\", \"label\": \"Person\", \"properties\": {{\"name\": \"John\"}} }}],\n",
    "\"relationships\": [{{\"type\": \"KNOWS\", \"start_node_id\": \"0\", \"end_node_id\": \"1\", \"properties\": {{\"since\": \"2024-08-01\"}} }}] }}\n",
    "\n",
    "Use only the following nodes and relationships (if provided):\n",
    "{schema}\n",
    "\n",
    "Assign a unique ID (string) to each node, and reuse it to define relationships.\n",
    "Do respect the source and target node types for relationship and\n",
    "the relationship direction.\n",
    "\n",
    "Make sure you adhere to the following rules to produce valid JSON objects:\n",
    "- Do not return any additional information other than the JSON in it.\n",
    "- Omit any backticks around the JSON - simply output the JSON on its own.\n",
    "- The JSON object must not wrapped into a list - it is its own JSON object.\n",
    "- Property names must be enclosed in double quotes\n",
    "\n",
    "Examples:\n",
    "{examples}\n",
    "\n",
    "Input text:\n",
    "\n",
    "{text}\n",
    "\"\"\""
   ]
  }
 ],
 "metadata": {
  "kernelspec": {
   "display_name": "Python 3",
   "language": "python",
   "name": "python3"
  },
  "language_info": {
   "codemirror_mode": {
    "name": "ipython",
    "version": 3
   },
   "file_extension": ".py",
   "mimetype": "text/x-python",
   "name": "python",
   "nbconvert_exporter": "python",
   "pygments_lexer": "ipython3",
   "version": "3.10.10"
  }
 },
 "nbformat": 4,
 "nbformat_minor": 2
}
