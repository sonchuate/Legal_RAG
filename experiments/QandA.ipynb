{
 "cells": [
  {
   "cell_type": "code",
   "execution_count": null,
   "metadata": {},
   "outputs": [],
   "source": [
    "LLM_URL = \"https://1b20-34-82-250-241.ngrok-free.app\" + \"/v1/chat/completions\"\n",
    "LLM_NAME = \"Qwen/Qwen2.5-7B-Instruct\"x``"
   ]
  },
  {
   "cell_type": "code",
   "execution_count": 33,
   "metadata": {},
   "outputs": [
    {
     "name": "stdout",
     "output_type": "stream",
     "text": [
      "{\"id\":\"chat-bf1a81a1fb154973a744f18f066882f5\",\"object\":\"chat.completion\",\"created\":1741768560,\"model\":\"Qwen/Qwen2.5-7B-Instruct\",\"choices\":[{\"index\":0,\"message\":{\"role\":\"assistant\",\"content\":\"```\\nReason: \\\"Người dùng lái xe 4 chỗ số sàn\\\"\\nInfor: \\\"car_type = '4-door manual'\\\"\\nReason: \\\"Bằng lái của người dùng là số tự động và đã hết hiệu lực\\\"\\nInfor: \\\"driving_license_type = 'automatic'\\\"\\nReason: \\\"Bằng lái đã hết hiệu lực\\\"\\nInfor: \\\"license_expired = True\\\"\\nReason: \\\"Người dùng có nồng độ cồn khi lái xe\\\"\\nInfor: \\\"blood_alcohol_content = True\\\"\\nReason: \\\"Người dùng muốn biết mức xử phạt\\\"\\nInfor: \\\"calculate(car_type, driving_license_type, license_expired, blood_alcohol_content)\\\"\\nAnnotate: \\\"car_type là loại xe, driving_license_type là loại bằng lái, license_expired là bằng lái đã hết hiệu lực, blood_alcohol_content là có nồng độ cồn khi lái xe\\\"\\n```\",\"tool_calls\":[]},\"logprobs\":null,\"finish_reason\":\"stop\",\"stop_reason\":null}],\"usage\":{\"prompt_tokens\":488,\"total_tokens\":679,\"completion_tokens\":191},\"prompt_logprobs\":null}\n"
     ]
    }
   ],
   "source": [
    "import requests\n",
    "import json\n",
    "\n",
    "system_prompt = \"\"\"# Bạn là một trợ lý xác định thông tin trong nhóm trợ lý trả lời pháp luật.\n",
    "# Nhiệm vụ của bạn là xác định các thông tin người dùng cung cấp. Hãy giải thích từng thông tin, sau đó biểu diễn lại thông tin dưới dạng python bằng cách đặt tên biến có liên quan kèm theo comment để trợ lý khác có thể hiểu.\n",
    "\n",
    "# Lưu ý:\n",
    "- Hãy trả lời dưới dạng danh sách các cặp Reason, Infor, cuối cùng là giải thích các biến sử dụng Annotate:\n",
    "```\n",
    "Reason: \"Lý do 1\"\n",
    "Infor: \"python code 1\"\n",
    "Reason: \"Lý do 2\"\n",
    "Infor:\"python code 2\"\n",
    "Annotate: \"Giải thích ý nghĩa các biến\"\n",
    "```\n",
    "- Nếu người dùng không đưa ra thôn tin gì, hãy trả về None.\n",
    "- Phần Infor là phần thông tin được mã hoá dưới dạng code python phải thực thi được, comment rõ ràng, sử dụng tên biến bằng tiếng Anh. Giá trị có thể sử dụng ví dụ True/False, Int, Float.\n",
    "- Đối với thông tin chưa biết, hãy gọi hàm search() kèm các biến và comment rõ ràng để trợ lý Tìm Kiếm tìm thêm thông tin.\n",
    "- Đối với yêu cầu của người dùng, hãy gọi hàm calculate() kèm các biến và comment rõ ràng để trợ lý Tính Toán suy luận ra kết quả cuối cùng.\n",
    "\n",
    "# Ví dụ:\n",
    "- input: Năm nay tôi mười sáu tuổi, tôi tham gia giao thông không đội mũ bảo hiểm thì bị phạt bao nhiêu tiền?\n",
    "- Output:\n",
    "```\n",
    "Reason: \"Người dùng nói: Năm nay tôi mười sáu tuổi\"\n",
    "Infor: \"age = 16\"\n",
    "Reason: \"Người dùng không đội mũ bảo hiểm\"\n",
    "Infor: \"wear_helmet = False\"\n",
    "Reason: \"Người dùng muốn biết mức phạt là bao nhiêu\"\n",
    "Infor: \"calculate(age, wear_helmet)\"\n",
    "Annotate: \"age là tuổi của người dùng, wear_helmet là có đội mũ bảo hiểm hay không\"\n",
    "\"\"\"\n",
    "\n",
    "payload = json.dumps({\n",
    "  \"model\": LLM_NAME,\n",
    "  \"messages\": [\n",
    "    {\n",
    "      \"role\": \"system\",\n",
    "      \"content\": system_prompt\n",
    "    },\n",
    "    {\n",
    "      \"role\": \"user\",\n",
    "      \"content\": \"tôi lái xe 4 chỗ số sàn tuy nhiên bằng lái của tôi là số tự động đã hết hiệu lực và có nồng độ cồn thì bị xử phạt thế nào\"\n",
    "    }\n",
    "  ]\n",
    "})\n",
    "headers = {\n",
    "  'Content-Type': 'application/json'\n",
    "}\n",
    "\n",
    "response = requests.request(\"POST\", LLM_URL, headers=headers, data=payload)\n",
    "\n",
    "print(response.text)\n"
   ]
  },
  {
   "cell_type": "code",
   "execution_count": 34,
   "metadata": {},
   "outputs": [
    {
     "name": "stdout",
     "output_type": "stream",
     "text": [
      "```\n",
      "Reason: \"Người dùng lái xe 4 chỗ số sàn\"\n",
      "Infor: \"car_type = '4-door manual'\"\n",
      "Reason: \"Bằng lái của người dùng là số tự động và đã hết hiệu lực\"\n",
      "Infor: \"driving_license_type = 'automatic'\"\n",
      "Reason: \"Bằng lái đã hết hiệu lực\"\n",
      "Infor: \"license_expired = True\"\n",
      "Reason: \"Người dùng có nồng độ cồn khi lái xe\"\n",
      "Infor: \"blood_alcohol_content = True\"\n",
      "Reason: \"Người dùng muốn biết mức xử phạt\"\n",
      "Infor: \"calculate(car_type, driving_license_type, license_expired, blood_alcohol_content)\"\n",
      "Annotate: \"car_type là loại xe, driving_license_type là loại bằng lái, license_expired là bằng lái đã hết hiệu lực, blood_alcohol_content là có nồng độ cồn khi lái xe\"\n",
      "```\n"
     ]
    }
   ],
   "source": [
    "print(json.loads(response.text)['choices'][0]['message']['content'])"
   ]
  },
  {
   "cell_type": "code",
   "execution_count": 35,
   "metadata": {},
   "outputs": [
    {
     "name": "stdout",
     "output_type": "stream",
     "text": [
      "{\"id\":\"chat-4d28a4ede95646078ef8698171bbd9b0\",\"object\":\"chat.completion\",\"created\":1741769695,\"model\":\"Qwen/Qwen2.5-7B-Instruct\",\"choices\":[{\"index\":0,\"message\":{\"role\":\"assistant\",\"content\":\"1.\\nReason: \\\"Độ tuổi của người lái xe gắn máy\\\"\\nInfor: \\\"age >= 16\\\"\\nAnnotate: \\\"age là tuổi của người lái xe.\\\"\\n\\n2.\\nReason: \\\"Độ tuổi của người được cấp giấy phép lái xe hạng A1, A, B1, B, C1\\\"\\nInfor: \\\"age >= 18\\\"\\nAnnotate: \\\"age là tuổi của người lái xe.\\\"\\n\\n3.\\nReason: \\\"Độ tuổi của người được cấp giấy phép lái xe hạng C, BE\\\"\\nInfor: \\\"age >= 21\\\"\\nAnnotate: \\\"age là tuổi của người lái xe.\\\"\\n\\n4.\\nReason: \\\"Độ tuổi của người được cấp giấy phép lái xe hạng D1, D2, C1E, CE\\\"\\nInfor: \\\"age >= 24\\\"\\nAnnotate: \\\"age là tuổi của người lái xe.\\\"\\n\\n5.\\nReason: \\\"Độ tuổi của người được cấp giấy phép lái xe hạng D, D1E, D2E, DE\\\"\\nInfor: \\\"age >= 27\\\"\\nAnnotate: \\\"age là tuổi của người lái xe.\\\"\\n\\n6.\\nReason: \\\"Tuổi tối đa của người lái xe ô tô chở người (kể cả xe buýt) trên 29 chỗ (không kể chỗ của người lái xe), xe ô tô chở người giường nằm\\\"\\nInfor: \\\"age <= 57 for gender == 'male' and age <= 55 for gender == 'female'\\\"\\nAnnotate: \\\"age là tuổi của người lái xe, gender là giới tính của người lái xe.\\\"\\n\\n7.\\nReason: \\\"Yêu cầu về sức khỏe phù hợp với từng loại phương tiện của người lái xe\\\"\\nInfor: \\\"health_condition == 'suitable' for vehicle_type\\\"\\nAnnotate: \\\"health_condition là tình trạng sức khỏe của người lái xe, vehicle_type là loại phương tiện được điều khiển.\\\"\\n\\n8.\\nReason: \\\"Quy định độ tuổi của người lái xe trong lực lượng quân đội, công an làm nhiệm vụ quốc phòng, an ninh\\\"\\nInfor: \\\"military_age == 'specified by Ministry of National Defense and Ministry of Public Security'\\\"\\nAnnotate: \\\"military_age là độ tuổi được quy định bởi Bộ Quốc phòng và Bộ Công an.\\\"\",\"tool_calls\":[]},\"logprobs\":null,\"finish_reason\":\"stop\",\"stop_reason\":null}],\"usage\":{\"prompt_tokens\":1025,\"total_tokens\":1522,\"completion_tokens\":497},\"prompt_logprobs\":null}\n"
     ]
    }
   ],
   "source": [
    "import requests\n",
    "import json\n",
    "\n",
    "system_prompt = \"\"\"# Bạn là một trợ lý xác định thông tin các mức phạt trong nhóm trợ lý trả lời pháp luật.\n",
    "# Nhiệm vụ của bạn là xác định 1 danh sách gồm các mục khác nhau trong các quy định về luật mà người dùng đưa ra.\n",
    "\n",
    "# Lưu ý:\n",
    "- ĐỐi với mỗi mục, hãy trả lời dưới dạng danh sách các cặp Reason, Infor, cuối cùng là giải thích các biến sử dụng Annotate:\n",
    "```\n",
    "Reason: \"Lý do 1\"\n",
    "Infor: \"python code 1\"\n",
    "Reason: \"Lý do 2\"\n",
    "Infor:\"python code 2\"\n",
    "Annotate: \"Giải thích ý nghĩa các biến\"\n",
    "```\n",
    "- Nếu người dùng không đưa ra thôn tin gì, hãy trả về None.\n",
    "- Phần Infor là phần thông tin được mã hoá dưới dạng code python phải thực thi được, comment rõ ràng, sử dụng tên biến bằng tiếng Anh. Giá trị có thể sử dụng ví dụ True/False, Int, Float.\n",
    "- Đối với thông tin chưa biết, hãy gọi hàm search() kèm các biến và comment rõ ràng để trợ lý Tìm Kiếm tìm thêm thông tin.\n",
    "\n",
    "# Ví dụ:\n",
    "- input: Điều abc, khoản abc:\\na. Người tham gia giao thông dưới 13 tuổi đi xe có dung tích trên 50cc sẽ bị phạt 500000 đồng.\\nb. Người tham gia giao thông từ 13 đến 16 tuổi đi xe có dung tích trên 50cc sẽ bị phạt 200000 đồng.\n",
    "- Output:\n",
    "```\n",
    "1. \n",
    "Reason: \"Người tham gia giao thông dưới 13 tuổi\"\n",
    "Infor: \"age < 13\"\n",
    "Reason: \"Đi xe có dung tích trên 50cc\"\n",
    "Infor: \"capacity > 50\"\n",
    "Reason: \"Sẽ bị phạt 500000 đồng.\"\n",
    "Infor: \"calculate(age, capacity) = 500000\"\n",
    "Annotate: \"age là tuổi của người dùng, capacity là dung tích xe, calculate() là hàm tính toán tiền phạt\"\n",
    "\n",
    "2.\n",
    "Reason: \"Người tham gia giao thông từ 13 đến 16\"\n",
    "Infor: \"age > 13 and age < 16\"\n",
    "Reason: \"Đi xe có dung tích trên 50cc\"\n",
    "Infor: \"capacity > 50\"\n",
    "Reason: \"Sẽ bị phạt 200000 đồng.\"\n",
    "Infor: \"calculate(age, capacity) = 200000\"\n",
    "Annotate: \"age là tuổi của người dùng, capacity là dung tích xe, calculate() là hàm tính toán tiền phạt\"\n",
    "```\n",
    "\"\"\"\n",
    "\n",
    "payload = json.dumps({\n",
    "  \"model\": LLM_NAME,\n",
    "  \"messages\": [\n",
    "    {\n",
    "      \"role\": \"system\",\n",
    "      \"content\": system_prompt\n",
    "    },\n",
    "    {\n",
    "      \"role\": \"user\",\n",
    "      \"content\": \"\"\"Điều 59.\\\\nTuổi, sức khỏe của người điều khiển phương tiện tham gia giao thông đường bộ\\\\n1. Độ tuổi của người lái xe, người điều khiển xe máy chuyên dùng được quy định như sau:\\\\na) Người đủ 16 tuổi trở lên được điều khiển xe gắn máy;\\\\nb) Người đủ 18 tuổi trở lên được cấp giấy phép lái xe hạng A1, A, B1, B, C1, được cấp chứng chỉ bồi dưỡng kiến thức pháp luật về giao thông đường bộ để điều khiển xe máy chuyên dùng tham gia giao thông đường bộ;\\\\nc) Người đủ 21 tuổi trở lên được cấp giấy phép lái xe hạng C, BE;\\\\nd) Người đủ 24 tuổi trở lên được cấp giấy phép lái xe hạng D1, D2, C1E, CE;\\\\nđ) Người đủ 27 tuổi trở lên được cấp giấy phép lái xe hạng D, D1E, D2E, DE;\\\\ne) Tuổi tối đa của người lái xe ô tô chở người (kể cả xe buýt) trên 29 chỗ (không kể chỗ của người lái xe), xe ô tô chở người giường nằm là đủ 57 tuổi đối với nam, đủ 55 tuổi đối với nữ.\\\\n2. Người điều khiển phương tiện tham gia giao thông đường bộ phải bảo đảm điều kiện sức khỏe phù hợp với từng loại phương tiện được phép điều khiển. Bộ trưởng Bộ Y tế quy định về tiêu chuẩn sức khỏe, việc khám sức khỏe đối với người lái xe, người điều khiển xe máy chuyên dùng; việc khám sức khỏe định kỳ đối với người hành nghề lái xe ô tô; xây dựng cơ sở dữ liệu về sức khỏe của người lái xe, người điều khiển xe máy chuyên dùng.\\\\n3. Bộ trưởng\\\\nBộ Quốc phòng, Bộ trưởng Bộ Công an quy định độ tuổi của người lái xe trong lực lượng quân đội, công an làm nhiệm vụ quốc phòng, an ninh.\"\"\"\n",
    "    }\n",
    "  ]\n",
    "})\n",
    "headers = {\n",
    "  'Content-Type': 'application/json'\n",
    "}\n",
    "\n",
    "response = requests.request(\"POST\", LLM_URL, headers=headers, data=payload)\n",
    "\n",
    "print(response.text)\n"
   ]
  },
  {
   "cell_type": "code",
   "execution_count": 36,
   "metadata": {},
   "outputs": [
    {
     "name": "stdout",
     "output_type": "stream",
     "text": [
      "1.\n",
      "Reason: \"Độ tuổi của người lái xe gắn máy\"\n",
      "Infor: \"age >= 16\"\n",
      "Annotate: \"age là tuổi của người lái xe.\"\n",
      "\n",
      "2.\n",
      "Reason: \"Độ tuổi của người được cấp giấy phép lái xe hạng A1, A, B1, B, C1\"\n",
      "Infor: \"age >= 18\"\n",
      "Annotate: \"age là tuổi của người lái xe.\"\n",
      "\n",
      "3.\n",
      "Reason: \"Độ tuổi của người được cấp giấy phép lái xe hạng C, BE\"\n",
      "Infor: \"age >= 21\"\n",
      "Annotate: \"age là tuổi của người lái xe.\"\n",
      "\n",
      "4.\n",
      "Reason: \"Độ tuổi của người được cấp giấy phép lái xe hạng D1, D2, C1E, CE\"\n",
      "Infor: \"age >= 24\"\n",
      "Annotate: \"age là tuổi của người lái xe.\"\n",
      "\n",
      "5.\n",
      "Reason: \"Độ tuổi của người được cấp giấy phép lái xe hạng D, D1E, D2E, DE\"\n",
      "Infor: \"age >= 27\"\n",
      "Annotate: \"age là tuổi của người lái xe.\"\n",
      "\n",
      "6.\n",
      "Reason: \"Tuổi tối đa của người lái xe ô tô chở người (kể cả xe buýt) trên 29 chỗ (không kể chỗ của người lái xe), xe ô tô chở người giường nằm\"\n",
      "Infor: \"age <= 57 for gender == 'male' and age <= 55 for gender == 'female'\"\n",
      "Annotate: \"age là tuổi của người lái xe, gender là giới tính của người lái xe.\"\n",
      "\n",
      "7.\n",
      "Reason: \"Yêu cầu về sức khỏe phù hợp với từng loại phương tiện của người lái xe\"\n",
      "Infor: \"health_condition == 'suitable' for vehicle_type\"\n",
      "Annotate: \"health_condition là tình trạng sức khỏe của người lái xe, vehicle_type là loại phương tiện được điều khiển.\"\n",
      "\n",
      "8.\n",
      "Reason: \"Quy định độ tuổi của người lái xe trong lực lượng quân đội, công an làm nhiệm vụ quốc phòng, an ninh\"\n",
      "Infor: \"military_age == 'specified by Ministry of National Defense and Ministry of Public Security'\"\n",
      "Annotate: \"military_age là độ tuổi được quy định bởi Bộ Quốc phòng và Bộ Công an.\"\n"
     ]
    }
   ],
   "source": [
    "print(json.loads(response.text)['choices'][0]['message']['content'])"
   ]
  },
  {
   "cell_type": "code",
   "execution_count": null,
   "metadata": {},
   "outputs": [],
   "source": []
  }
 ],
 "metadata": {
  "kernelspec": {
   "display_name": "Python 3",
   "language": "python",
   "name": "python3"
  },
  "language_info": {
   "codemirror_mode": {
    "name": "ipython",
    "version": 3
   },
   "file_extension": ".py",
   "mimetype": "text/x-python",
   "name": "python",
   "nbconvert_exporter": "python",
   "pygments_lexer": "ipython3",
   "version": "3.10.10"
  }
 },
 "nbformat": 4,
 "nbformat_minor": 2
}
