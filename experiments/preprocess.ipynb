{
 "cells": [
  {
   "cell_type": "code",
   "execution_count": 14,
   "metadata": {},
   "outputs": [
    {
     "name": "stdout",
     "output_type": "stream",
     "text": [
      "1166.txt ['\"-0\"><br/></h2>']\n",
      "5501.txt ['\"-0\"><br/></h2>']\n",
      "5793.txt ['\"-0\"><br/></h2>']\n",
      "6465.txt ['\"-3\"><br/></h2><p>Như vậy, đối với xe ô tô chở hành khách, ô tô chở người và các loại xe tương tự xe ô tô chở hành khách, chở người khách không lắp camera theo quy định tiền với người điều khiển từ 1.000.000 đồng đến 2.000.000 đồng như trên.</p>\\n</section>']\n"
     ]
    }
   ],
   "source": [
    "import os\n",
    "for file in os.listdir('data'):\n",
    "    with open('data/'+ file, 'r', encoding='utf-8')  as f:\n",
    "        data = f.read()\n",
    "    with open('preprocess/'+ file, 'w', encoding='utf-8')  as f:\n",
    "        for d in data.split('<h2 id=')[1:]:\n",
    "            try:\n",
    "                d = d.replace('<strong>', '')\n",
    "                d = d.split('</strong>')\n",
    "                ques = d[0].split('<strong')[1]\n",
    "                ques = ques.split('>')[1]\n",
    "                infor = \"\".join(d[1:])\n",
    "                f.write(ques + \"|||\" + infor + '\\n')\n",
    "                f.write('\\n' + '#'*80 + '\\n')\n",
    "            except:\n",
    "                print(file, d)\n"
   ]
  },
  {
   "cell_type": "code",
   "execution_count": null,
   "metadata": {},
   "outputs": [],
   "source": [
    "– Biển báo 101: Đường cấm: Đường sẽ cấm tất cả các loại phương tiện cơ giới và thô sơ lưu thông, trừ đối với các xe được ưu tiên theo quy định của pháp luật.\n",
    "\n",
    "– Biển báo 102: Cấm đi ngược chiều: Đường cấm tất cả các loại xe cơ giới và thô sơ đi vào theo chiều đặt biển, trừ các xe được ưu tiên theo quy định của pháp luật.\n",
    "\n",
    "– Biển báo 103a: Cấm ôtô: Đường có biển báo 103a cấm tất cả các loại xe cơ giới kể cả môtô 3 bánh có thùng đi qua, trừ xe môtô hai bánh, xe gắn máy và các xe được ưu tiên theo quy định của pháp luật.\n",
    "\n",
    "– Biển báo 103b: Cấm ôtô rẽ phải: Đường có biển báo 103b cấm tất cả các loại xe cơ giới kể cả xe môtô 3 bánh có thùng xe rẽ phải, trừ xe môtô hai bánh, xe gắn máy và các xe được ưu tiên theo quy định của pháp luật.\n",
    "\n",
    "– Biển báo 103c: Cấm ôtô rẽ trái: Đường có biển báo 103c cấm tất cả các loại xe cơ giới kể cả xe môtô 3 bánh có thùng xe rẽ trái, trừ xe môtô hai bánh, xe gắn máy và các xe được ưu tiên theo quy định của pháp luật.\n",
    "\n",
    "– Biển báo 104: Cấm môtô: Đường có biển báo 104 cấm tất cả các loại xe môtô đi qua, trừ các xe môtô được ưu tiên theo quy định của pháp luật.\n",
    "\n",
    "– Biển báo 105: Cấm ôtô và môtô: Đường có biển báo 105 cấm tất cả các loại xe cơ giới và xe môtô đi qua trừ xe gắn máy và các xe ưu tiên theo quy định của pháp luật.\n",
    "\n",
    "– Biển báo 106a: Cấm xe tải: Để nhằm báo đường cấm tất cả các loại ôtô chở hàng trừ các xe được ưu tiên theo quy định của pháp luật.\n",
    "\n",
    "– Biển báo 106b: Cấm xe tải trên 2,5T: Để báo rằng đường cấm tất cả các loại ôtô chở hàng có trọng tải từ 2,5 tấn trở lên trừ các xe được ưu tiên theo quy định của pháp luật.\n",
    "\n",
    "– Biển báo 107: Cấm ôtô khách và ôtô tải: Báo hiệu đường cấm ôtô chở hành khách và các loại ôtô tải có trọng lượng lớn nhất cho phép trên 3,5 tấn kể cả các loại máy kéo và xe máy thi công chuyên dùng đi qua trừ các xe được ưu tiên theo luật định.\n",
    "\n",
    "– Biển báo 108: Cấm ôtô kéo moóc: Đường cấm tất cả các loại xe cơ giới kéo theo rơ-moóc kể cả xe môtô, máy kéo, ôtô khách kéo theo rơ-moóc đi qua, trừ loại ôtô sơ-mi rơ-moóc và các loại xe được ưu tiên (có kéo theo rơ-moóc) theo quy định của pháp luật.\n",
    "\n",
    "– Biển báo 109: Cấm máy kéo: Báo hiệu đường cấm tất cả các loại máy kéo, kể cả máy kéo bánh hơi và bánh xích đi qua.\n",
    "\n",
    "– Biển báo 110a: Cấm đi xe đạp: Báo hiệu đường cấm xe đạp đi qua.\n",
    "\n",
    "– Biển báo 110b: Cấm xe đạp thồ: Báo hiệu đường cấm xe đạp thồ đi qua. Biển này không cấm người dắt loại xe này.\n",
    "\n",
    "– Biển báo 111a: Cấm xe gắn máy: Báo hiệu đường cấm xe gắn máy đi qua. Biển không có giá trị đối với xe đạp.\n",
    "\n",
    "– Biển báo 111b: Cấm xe ba bánh loại có động cơ (xe lam): Báo hiệu đường cấm xe ba bánh loại có động cơ như xe lam, xích lô máy, xe lôi máy và một số loại xe khác.\n",
    "\n",
    "– Biển báo 111c: Cấm xe ba bánh loại có động cơ (xe lôi máy):Báo hiệu đường cấm xe ba bánh loại có động cơ như xe lam, xích lô máy, xe lôi máy v.v…\n",
    "\n",
    "– Biển báo 111d: Cấm xe ba bánh loại không có động cơ (xe xích lô): Báo hiệu đường cấm xe ba bánh loại không có động cơ như xích lô, xe lôi, xe đạp v.v…\n",
    "\n",
    "– Biển báo 112: Cấm người đi bộ: Để báo hiệu đường cấm đi bộ qua lại.\n",
    "\n",
    "– Biển báo 113: Cấm xe người kéo, đẩy: Để báo đường cấm xe người kéo, đẩy đi qua. Biển không có giá trị cấm những xe nôi của trẻ em và phương tiện chuyên dùng để đi lại của người tàn tật.\n",
    "\n",
    "– Biển báo 114: Cấm xe xúc vật kéo: Để báo đường cấm súc vật vận tải hàng hóa hoặc hành khách dù kéo xe hay chở trên lưng đi qua.\n",
    "\n",
    "– Biển báo 115: Hạn chế trọng lượng xe: Để báo đường cấm các loại xe cơ giới và thô sơ, kể cả các xe được ưu tiên theo luật lệ của nhà nước quy định, có trọng tải(bao gồm cả xe và hàng hóa) vượt quá trị số ghi trên biển đi qua.\n",
    "\n",
    "– Biển báo 116: Hạn chế trọng lượng trên trục xe: Để báo đường cấm các loại xe cơ giới và thô sơ, kể cả các xe được ưu tiên theo luật lệ của nhà nước quy định, có trọng lượng toàn bộ (gồm cả xe và hàng hóa) phân bổ trên một trục bất kỳ của xe vượt quá trị số ghi trên biển đi qua.\n",
    "\n",
    "– Biển báo 117: Hạn chế chiều cao: Cấm các xe cơ giới và thô sơ, kể cả các xe được ưu tiên theo luật lệ nhà nước quy định có chiều cao (tính đến điểm cao nhất kể cả xe và hàng hóa) vượt quá trị số ghi trên biển không được đi qua.\n",
    "\n",
    "– Biển báo 118: Hạn chế chiều ngang: Cấm các xe cơ giới và thô sơ, kể cả các xe ược ưu tiên theo luật lệ nhà nước quy định có chiều ngang (kể cả xe và hàng hóa) vượt quá trị số ghi trên biển không được đi qua.\n",
    "\n",
    "– Biển báo 119: Hạn chế chiều dài ôtô: Để báo đường cấm các loại xe cơ giới và thô sơ kể cả các xe được ưu tiên theo luật lệ nhà nước quy định, có độ dài toàn bộ kể cả xe và hàng lớn hơn trị số ghi trên biển đi qua.\n",
    "\n",
    "– Biển báo 120: Hạn chế chiều dài ôtô kéo moóc: Đường cấm các loại xe cơ giới và thô sơ kéo theo moóc kể cả ôtô sơ-mi rơ-moóc và các loại xe được ưu tiên kéo moóc theo luật lệ nhà nước quy định, có độ dài toàn bộ kể cả xe, moóc và hàng lớn hơn trị số ghi trên biển đi qua.\n",
    "\n",
    "– Biển báo 121: Cự ly tối thiểu giữa hai xe: Để báo xe ôtô phải đi cách nhau một khoảng tối thiểu. Số ghi trên biển cho biết khoảng cách tối thiểu tính bằng mét. Biển có hiệu lực cấm các xe ôtô không được đi cách nhau kể cả các xe được ưu tiên theo luật lệ nhà nước quy định một cự ly nhỏ hơn trị số ghi trên biển báo.\n",
    "\n",
    "– Biển báo 122: Dừng lại: Biển có hiệu lực buộc các xe cơ giới và thô sơ kể cả các xe được ưu tiên theo luật lệ Nhà nước quy định dừng lại trước biển hoặc trước vạch ngang đường và chỉ được phép đi khi thấy các tín hiệu (do người điều khiển giao thông hoặc đèn, người cầm cờ) cho phép đi.\n",
    "\n",
    "– Biển báo 123a: Cấm rẽ trái: Cấm rẽ trái (theo hướng mũi tên chỉ) ở những chỗ đường giao nhau. Biển có hiệu lực cấm các loại xe (cơ giới và thô sơ) trừ các xe được ưu tiên theo luật định được rẽ trái.\n",
    "\n",
    "– Biển báo 123b: Cấm rẽ phải: Để báo cấm rẽ phải (theo hướng mũi tên chỉ) ở những chỗ đường giao nhau. Biển có hiệu lực cấm các loại xe cơ giới và thô sơ trừ các xe được ưu tiên theo luật định được rẽ phải.\n",
    "\n",
    "– Biển báo 124a: Cấm quay xe: Cấm các loại xe cơ giới và thô sơ quay đầu, trừ các xe được ưu tiên theo luật định.\n",
    "\n",
    "– Biển báo 124b: Cấm ôtô quay đầu xe: Cấm xe ôtô và xe môtô 3 bánh quay đầu, trừ các xe được ưu tiên theo luật quy định.\n",
    "\n",
    "– Biển báo 125: Cấm vượt: Cấm các loại xe cơ giới vượt nhau kể cả các xe được ưu tiên theo luật định. Được phép vượt xe mô tô 2 bánh, xe gắn máy.\n",
    "\n",
    "– Biển báo 126: Cấm ôtô tải vượt: Cấm tất cả các loại ô tô tải có trọng lượng lớn nhất cho phép (bao gồm trọng lượng xe và hàng) trên 3.5 tấn kể cả các xe được ưu tiên theo luật định vượt nhau. Được phép vượt xe mô tô 2 bánh, xe gắn máy.\n",
    "\n",
    "– Biển báo 127: Tốc độ tối đa cho phép: Cấm tất cả các loại xe cơ giới chạy với tốc độ tối đa vượt quá trị số ghi trên biển, trừ các xe được ưu tiên theo luật quy định.\n",
    "\n",
    "– Biển báo 128: Cấm bóp còi: Cấm các loại xe cơ giới sử dụng còi.\n",
    "\n",
    "– Biển báo 129: Kiểm tra: Để báo nơi đặt trạm kiểm tra, các loại phương tiện vận tải qua đó phải dừng lại để làm thủ tục kiểm tra, kiểm soát theo quy định pháp luật.\n",
    "\n",
    "– Biển báo 130: Cấm dừng xe và đỗ xe: Để báo nơi cấm dừng xe và đỗ xe. Biển báo 130 có hiệu lực cấm tất cả các loại xe cơ giới dừng và đỗ lại ở phía đường có đặt biển, trừ các xe được ưu tiên theo luật quy định.\n",
    "\n",
    "– Biển báo 131a: Cấm đỗ xe: Để báo nơi cấm đỗ xe. Biển có hiệu lực cấm tất cả các loại xe cơ giới đỗ lại ở phía đường có đặt biển, trừ các xe được ưu tiên theo luật quy định.\n",
    "\n",
    "– Biển báo 131b: Cấm đỗ xe ngày lẻ: Để báo nơi cấm đỗ xe vào các ngày lẻ trong tháng. Biển báo 131b có hiệu lực cấm tất cả các loại xe cơ giới đỗ lại ở phía đường có đặt biển, trừ các xe được ưu tiên theo luật quy định.\n",
    "\n",
    "– Biển báo 131c: Cấm đỗ xe ngày chẵn: Để báo nơi cấm đỗ xe vào các ngày chẵn trong tháng. Biển báo 131c có hiệu lực cấm tất cả các loại xe cơ giới đỗ lại ở phía đường có đặt biển, trừ các xe được ưu tiên theo luật quy định.\n",
    "\n",
    "– Biển báo 132: Nhường đường cho xe cơ giới đi ngược chiều qua đường hẹp: Biển báo 132 để báo các loại xe cơ giới và thô sơ, kể cả các xe được ưu tiên theo luật định đi theo chiều nhìn thấy biển phải nhường đường cho các loại xe cơ giới đi theo hướng ngược lại khi đi qua các đoạn đường và cầu hẹp.\n",
    "\n",
    "– Biển báo 133: Hết cấm vượt: Biển báo các xe cơ giới được phép vượt nhau nhưng các xe cơ giới phải theo đúng luật đi đường bộ quy định về điều kiện cho phép vượt nhau.\n",
    "\n",
    "– Biển báo 134: Hết hạn chế tốc độ tối đa: Biển báo hết đoạn đường hạn chế tốc độ tối đa. Kể từ biển này, các xe được phép chạy với tốc độ tối đa đã quy định trong luật giao thông đường bộ."
   ]
  },
  {
   "cell_type": "markdown",
   "metadata": {},
   "source": [
    "# Lấy link"
   ]
  },
  {
   "cell_type": "code",
   "execution_count": 1,
   "metadata": {},
   "outputs": [],
   "source": [
    "import re\n",
    "\n",
    "def extract_links(text):\n",
    "    # Biểu thức chính quy để tìm URL\n",
    "    url_pattern = r'https?://(?:www\\.)?[^\\s<>\"]+|www\\.[^\\s<>\"]+'\n",
    "    return re.findall(url_pattern, text)\n",
    "\n"
   ]
  },
  {
   "cell_type": "code",
   "execution_count": null,
   "metadata": {},
   "outputs": [],
   "source": []
  },
  {
   "cell_type": "code",
   "execution_count": 2,
   "metadata": {},
   "outputs": [],
   "source": [
    "import os\n",
    "\n",
    "links = []\n",
    "for file in os.listdir('data'):\n",
    "    with open('data/'+ file, 'r', encoding='utf-8')  as f:\n",
    "        data = f.read()\n",
    "        links.extend(extract_links(data))"
   ]
  },
  {
   "cell_type": "code",
   "execution_count": 3,
   "metadata": {},
   "outputs": [],
   "source": [
    "links = list(set(links))"
   ]
  },
  {
   "cell_type": "code",
   "execution_count": 6,
   "metadata": {},
   "outputs": [],
   "source": [
    "with open('thu_vien_phap_luat/meta.txt', 'w', encoding='utf-8') as f:\n",
    "    for id, link in enumerate(links):\n",
    "        if 'https://thuvienphapluat.vn/van-ban/Giao-thong-Van-tai' not in link: continue\n",
    "        f.write(f'{link}\\t{id}\\n')"
   ]
  },
  {
   "cell_type": "code",
   "execution_count": 19,
   "metadata": {},
   "outputs": [
    {
     "data": {
      "text/plain": [
       "['https://thuvienphapluat.vn/van-ban/Giao-thong-Van-tai/Thong-tu-51-2017-TT-BGTVT-dang-kiem-vien-nhan-vien-nghiep-vu-dang-kiem-tau-bien-371734.aspx?anchor=dieu_3',\n",
       " 'https://thuvienphapluat.vn/van-ban/Thu-tuc-To-tung/Phap-lenh-thu-tuc-bat-giu-tau-bien-2008-05-2008-UBTVQH12-70478.aspx?anchor=dieu_22',\n",
       " 'https://thuvienphapluat.vn/van-ban/Xay-dung-Do-thi/Nghi-dinh-06-2021-ND-CP-huong-dan-quan-ly-chat-luong-thi-cong-xay-dung-va-bao-tri-cong-trinh-xay-dung-463904.aspx?anchor=dieu_34',\n",
       " 'https://cdn.thuvienphapluat.vn/phap-luat/2022-2/TTN/kt-giay-to.jpg',\n",
       " 'https://cdn.thuvienphapluat.vn/phap-luat/2022-2/PTT/18052024/trong-thoi-gian-qua-canh-hang-hoa-co-duoc-quyen-tha.jpg',\n",
       " 'https://cdn.thuvienphapluat.vn/phap-luat/2022-2/LVPD/kiem-dinh-khi-thai.jpg',\n",
       " 'https://cdn.thuvienphapluat.vn/phap-luat/2022/Ti%E1%BA%BFn%20%C4%90%E1%BA%A1t/17-3/hang-hai-15%20(1).png',\n",
       " 'https://thuvienphapluat.vn/van-ban/Giao-thong-Van-tai/Luat-Giao-thong-duong-thuy-noi-dia-2004-23-2004-QH11-52184.aspx?anchor=dieu_14',\n",
       " 'https://thuvienphapluat.vn/van-ban/Vi-pham-hanh-chinh/Luat-xu-ly-vi-pham-hanh-chinh-2012-142766.aspx?anchor=khoan_1_74',\n",
       " 'https://cdn.thuvienphapluat.vn/phap-luat/2022/202201/Nhung/Thu-phi-khong-dung.jpg']"
      ]
     },
     "execution_count": 19,
     "metadata": {},
     "output_type": "execute_result"
    }
   ],
   "source": [
    "links[:10]"
   ]
  },
  {
   "cell_type": "code",
   "execution_count": 20,
   "metadata": {},
   "outputs": [
    {
     "data": {
      "text/plain": [
       "27205"
      ]
     },
     "execution_count": 20,
     "metadata": {},
     "output_type": "execute_result"
    }
   ],
   "source": [
    "len(links)"
   ]
  }
 ],
 "metadata": {
  "kernelspec": {
   "display_name": "Python 3",
   "language": "python",
   "name": "python3"
  },
  "language_info": {
   "codemirror_mode": {
    "name": "ipython",
    "version": 3
   },
   "file_extension": ".py",
   "mimetype": "text/x-python",
   "name": "python",
   "nbconvert_exporter": "python",
   "pygments_lexer": "ipython3",
   "version": "3.10.10"
  }
 },
 "nbformat": 4,
 "nbformat_minor": 2
}
